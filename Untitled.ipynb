{
 "cells": [
  {
   "cell_type": "code",
   "execution_count": 9,
   "id": "f09712d1",
   "metadata": {},
   "outputs": [],
   "source": [
    "import pandas as pd"
   ]
  },
  {
   "cell_type": "code",
   "execution_count": 3,
   "id": "5b2bd9fb",
   "metadata": {},
   "outputs": [],
   "source": [
    "df = pd.read_excel('New_dashboard.xlsx')"
   ]
  },
  {
   "cell_type": "code",
   "execution_count": 10,
   "id": "47698e6a",
   "metadata": {},
   "outputs": [
    {
     "name": "stdout",
     "output_type": "stream",
     "text": [
      "<class 'pandas.core.frame.DataFrame'>\n",
      "RangeIndex: 116203 entries, 0 to 116202\n",
      "Data columns (total 39 columns):\n",
      " #   Column              Non-Null Count   Dtype  \n",
      "---  ------              --------------   -----  \n",
      " 0   F12M_Actual_Sum     116203 non-null  int64  \n",
      " 1   F12M_Stat_Sum       116203 non-null  int64  \n",
      " 2   F12M_Consensus_Sum  116203 non-null  int64  \n",
      " 3   F12M_ABSStat_Sum    116203 non-null  int64  \n",
      " 4   F12M_ABSCons_Sum    116203 non-null  int64  \n",
      " 5   F6M_Actual_Sum      116203 non-null  int64  \n",
      " 6   F6M_Stat_Sum        116203 non-null  int64  \n",
      " 7   F6M_Consensus_Sum   116203 non-null  int64  \n",
      " 8   F6M_ABSStat_Sum     116203 non-null  int64  \n",
      " 9   F6M_ABSCons_Sum     116203 non-null  int64  \n",
      " 10  L12M_Actual_Sum     116203 non-null  int64  \n",
      " 11  L12M_Stat_Sum       116203 non-null  int64  \n",
      " 12  L12M_Consensus_Sum  116203 non-null  int64  \n",
      " 13  L12M_ABSStat_Sum    116203 non-null  int64  \n",
      " 14  L12M_ABSCons_Sum    116203 non-null  int64  \n",
      " 15  L6M_Actual_Sum      116203 non-null  int64  \n",
      " 16  L6M_Stat_Sum        116203 non-null  int64  \n",
      " 17  L6M_Consensus_Sum   116203 non-null  int64  \n",
      " 18  L6M_ABSStat_Sum     116203 non-null  int64  \n",
      " 19  L6M_ABSCons_Sum     116203 non-null  int64  \n",
      " 20  MD_Error            116203 non-null  object \n",
      " 21  L12M_Actual_Count   116203 non-null  int64  \n",
      " 22  L9M                 116203 non-null  object \n",
      " 23  LEVEL3              116203 non-null  object \n",
      " 24  L6M_FA_STAT         74669 non-null   float64\n",
      " 25  L6M_FA_CONSEN       76572 non-null   float64\n",
      " 26  LEVEL2              116203 non-null  object \n",
      " 27  LEVEL1              116203 non-null  object \n",
      " 28  Item                116203 non-null  object \n",
      " 29  Material Type       116203 non-null  object \n",
      " 30  Div                 116203 non-null  object \n",
      " 31  Cust Facing Loc     116203 non-null  object \n",
      " 32  Sales Org           116203 non-null  object \n",
      " 33  Lag                 116203 non-null  object \n",
      " 34  Key                 116203 non-null  object \n",
      " 35  Division            116203 non-null  object \n",
      " 36  L6M_ABSEROR_CONS    116203 non-null  int64  \n",
      " 37  L12M_ABSERROR_CONS  116203 non-null  int64  \n",
      " 38  L6M_ABSERROR_CONS   116203 non-null  int64  \n",
      "dtypes: float64(2), int64(24), object(13)\n",
      "memory usage: 34.6+ MB\n"
     ]
    }
   ],
   "source": [
    "df.info()"
   ]
  },
  {
   "cell_type": "code",
   "execution_count": 11,
   "id": "ef0b4939",
   "metadata": {},
   "outputs": [
    {
     "data": {
      "text/plain": [
       "YES    92620\n",
       "NO     23583\n",
       "Name: L9M, dtype: int64"
      ]
     },
     "execution_count": 11,
     "metadata": {},
     "output_type": "execute_result"
    }
   ],
   "source": [
    "df['L9M'].value_counts()"
   ]
  },
  {
   "cell_type": "code",
   "execution_count": 12,
   "id": "f71a9b9f",
   "metadata": {},
   "outputs": [
    {
     "data": {
      "text/plain": [
       "OVER FORECASTING      45663\n",
       "TRIAL/NPI             22977\n",
       "UNDER FORECASTING     22315\n",
       "DISCONTINUE           15865\n",
       "OUTLIER CORRECTION     2998\n",
       "OK/MANUAL INPUT        2852\n",
       "MASTER DATA ERROR      1882\n",
       "LUMPY DEMAND           1651\n",
       "Name: LEVEL3, dtype: int64"
      ]
     },
     "execution_count": 12,
     "metadata": {},
     "output_type": "execute_result"
    }
   ],
   "source": [
    "df['LEVEL3'].value_counts()"
   ]
  },
  {
   "cell_type": "code",
   "execution_count": null,
   "id": "0de45191",
   "metadata": {},
   "outputs": [],
   "source": []
  }
 ],
 "metadata": {
  "kernelspec": {
   "display_name": "Python 3 (ipykernel)",
   "language": "python",
   "name": "python3"
  },
  "language_info": {
   "codemirror_mode": {
    "name": "ipython",
    "version": 3
   },
   "file_extension": ".py",
   "mimetype": "text/x-python",
   "name": "python",
   "nbconvert_exporter": "python",
   "pygments_lexer": "ipython3",
   "version": "3.9.10"
  }
 },
 "nbformat": 4,
 "nbformat_minor": 5
}
