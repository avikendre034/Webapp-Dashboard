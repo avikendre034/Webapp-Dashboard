{
 "cells": [
  {
   "cell_type": "markdown",
   "id": "f4096c84",
   "metadata": {},
   "source": [
    "## Loss Analysis"
   ]
  },
  {
   "cell_type": "markdown",
   "id": "810f3c70",
   "metadata": {},
   "source": [
    "## Table of Contents\n",
    "\n",
    "1. [Package_Import](#section1)<br>\n",
    "2. [Data Loading and Description](#section2)\n",
    "3. [Preprocessing](#section3)"
   ]
  },
  {
   "cell_type": "code",
   "execution_count": null,
   "id": "f7a49759",
   "metadata": {},
   "outputs": [],
   "source": [
    "from pathlib import Path\n",
    "from sqlalchemy import create_engine\n",
    "from sqlalchemy.engine import URL\n",
    "from pandas.tseries.offsets import DateOffset\n",
    "import textwrap\n",
    "import pyodbc\n",
    "import plotly\n",
    "import plotly.express as px\n",
    "import plotly.graph_objects as go\n",
    "from datetime import datetime\n",
    "#-------------------------------------------------------------------------------------------------------------------------------\n",
    "import pandas as pd                                                               # Importing for panel data analysis \n",
    "pd.set_option('display.max_columns', None)                                        # Unfolding hidden features if the cardinality is high      \n",
    "pd.set_option('display.max_colwidth', None)                                       # Unfolding the max feature width for better clearity      \n",
    "pd.set_option('display.max_rows', None)                                           # Unfolding hidden data points if the cardinality is high\n",
    "pd.set_option('display.float_format', lambda x: '%.2f' % x)                       # To suppress scientific notation over exponential values\n",
    "#-------------------------------------------------------------------------------------------------------------------------------\n",
    "import numpy as np                                                                # Importing package numpys (For Numerical Python)\n",
    "#-------------------------------------------------------------------------------------------------------------------------------\n",
    "#-------------------------------------------------------------------------------------------------------------------------------\n",
    "import warnings                                                                   # Importing warning to disable runtime warnings\n",
    "warnings.filterwarnings(\"ignore\")     "
   ]
  },
  {
   "cell_type": "code",
   "execution_count": null,
   "id": "09cddb8c",
   "metadata": {},
   "outputs": [],
   "source": [
    "pyodbc.drivers()"
   ]
  },
  {
   "cell_type": "code",
   "execution_count": null,
   "id": "05ecff20",
   "metadata": {},
   "outputs": [],
   "source": [
    "connection_string = \"DRIVER={SQL Server Native Client 11.0};SERVER=gsc-scpat-sql-001-d.database.windows.net;DATABASE=SC-PAT-DB;UID=SCPAT;PWD=Ecolab@1234\"\n",
    "connection_url = URL.create(\"mssql+pyodbc\", query={\"odbc_connect\": connection_string})\n",
    "try:\n",
    "    conn = create_engine(connection_url)\n",
    "except (Exception, Error) as error:\n",
    "    print(\"Error while connecting to PostgreSQL\", error)\n",
    "    "
   ]
  },
  {
   "cell_type": "code",
   "execution_count": null,
   "id": "da5f6d81",
   "metadata": {},
   "outputs": [],
   "source": [
    "data_query = textwrap.dedent( \"\"\" select\n",
    "[Period],\n",
    "[Lag],\n",
    "[Item],\n",
    "[Material Type],\n",
    "[Div],\n",
    "[Sales Org],\n",
    "[Cust Facing Loc],\n",
    "[Origin],\n",
    "sum(cast([Consensus]as float)) as [Consensus],\n",
    "sum(Cast([Actual] as float)) as [Actual],\n",
    "sum(cast([Stat] as float)) as [Stat],\n",
    "[MD_Error],\n",
    "[Date],\n",
    "abs(sum(cast([Consensus]as float)) - sum(Cast([Actual] as float))) as ABS_CONS,\n",
    "abs(sum(cast([Stat] as float)) - sum(Cast([Actual] as float))) as ABS_STAT\n",
    "from [FABIAS_Dashboard].[FALossBase_T] GROUP BY\n",
    "[Period],\n",
    "[Lag],\n",
    "[Item],\n",
    "[Material Type],\n",
    "[Div],\n",
    "[Sales Org],\n",
    "[Cust Facing Loc],\n",
    "[Origin],\n",
    "[MD_Error],\n",
    "[Date]\n",
    "  \"\"\")\n"
   ]
  },
  {
   "cell_type": "code",
   "execution_count": null,
   "id": "49eec4a4",
   "metadata": {},
   "outputs": [],
   "source": [
    "conn"
   ]
  },
  {
   "cell_type": "code",
   "execution_count": null,
   "id": "a77debb4",
   "metadata": {},
   "outputs": [],
   "source": [
    "df = pd.read_sql(data_query,con=conn)"
   ]
  },
  {
   "cell_type": "code",
   "execution_count": null,
   "id": "551a7e93",
   "metadata": {},
   "outputs": [],
   "source": [
    "df.shape"
   ]
  },
  {
   "cell_type": "code",
   "execution_count": null,
   "id": "ed4093ee",
   "metadata": {},
   "outputs": [],
   "source": []
  },
  {
   "cell_type": "code",
   "execution_count": null,
   "id": "899df510",
   "metadata": {},
   "outputs": [],
   "source": [
    "#fa = pd.read_sql_query('select top(1000) * from [FABIAS_Dashboard].[FALossBase_T]',con=conn)"
   ]
  },
  {
   "cell_type": "code",
   "execution_count": null,
   "id": "62d2463a",
   "metadata": {},
   "outputs": [],
   "source": [
    "#fa['Origin'].unique()"
   ]
  },
  {
   "cell_type": "code",
   "execution_count": null,
   "id": "23f3238d",
   "metadata": {},
   "outputs": [],
   "source": [
    "df['Key'] = df['Item'] +\",\"+ df['Material Type'] +\",\"+ df['Div'] +\",\"+ df['Cust Facing Loc'] +\",\"+ df['Sales Org']+\",\"+df['Lag']\n"
   ]
  },
  {
   "cell_type": "code",
   "execution_count": null,
   "id": "a8247241",
   "metadata": {},
   "outputs": [],
   "source": [
    "df.drop_duplicates(subset='Key',inplace=True)"
   ]
  },
  {
   "cell_type": "code",
   "execution_count": null,
   "id": "67138a6a",
   "metadata": {},
   "outputs": [],
   "source": [
    "df.shape"
   ]
  },
  {
   "cell_type": "code",
   "execution_count": null,
   "id": "60df6575",
   "metadata": {},
   "outputs": [],
   "source": [
    "df['Date'] = pd.to_datetime(df['Date'],format='%Y-%m-%d')"
   ]
  },
  {
   "cell_type": "code",
   "execution_count": null,
   "id": "17a0327a",
   "metadata": {},
   "outputs": [],
   "source": [
    "df[df['Key'] == '1826.11R,YSLD,Light,0150023343,4161,Lag 2']"
   ]
  },
  {
   "cell_type": "code",
   "execution_count": null,
   "id": "3beb4187",
   "metadata": {},
   "outputs": [],
   "source": [
    "df['Date'].value_counts().sort_index()"
   ]
  },
  {
   "cell_type": "code",
   "execution_count": null,
   "id": "f6bfdfe5",
   "metadata": {},
   "outputs": [],
   "source": [
    "df[df['Key']=='00-00000145,YSLD,FB_DIV,S4952M000000695700,4952,Lag 1']"
   ]
  },
  {
   "cell_type": "code",
   "execution_count": null,
   "id": "ca2c74f6",
   "metadata": {},
   "outputs": [],
   "source": [
    "df_group = df.groupby(by=['Key']).sum()[['Actual','Stat','Consensus','ABS_STAT','ABS_CONS']].reset_index()"
   ]
  },
  {
   "cell_type": "code",
   "execution_count": null,
   "id": "923e11f3",
   "metadata": {},
   "outputs": [],
   "source": [
    "df_group.rename(columns={'Actual':'Actual_Sum','Stat':'Stat_Sum','Consensus':'Consensus_Sum',\n",
    "                     'ABS_STAT':'ABSStat_Sum','ABS_CONS':'ABSCons_Sum'},inplace=True)"
   ]
  },
  {
   "cell_type": "code",
   "execution_count": null,
   "id": "f3215a48",
   "metadata": {},
   "outputs": [],
   "source": [
    "df_group.head()"
   ]
  },
  {
   "cell_type": "code",
   "execution_count": null,
   "id": "9cdeda7b",
   "metadata": {},
   "outputs": [],
   "source": [
    "df_group.shape"
   ]
  },
  {
   "cell_type": "code",
   "execution_count": null,
   "id": "09c04644",
   "metadata": {},
   "outputs": [],
   "source": [
    "final_df = pd.merge(df,df_group,on='Key',how='outer')"
   ]
  },
  {
   "cell_type": "code",
   "execution_count": null,
   "id": "1bbd61d2",
   "metadata": {},
   "outputs": [],
   "source": []
  },
  {
   "cell_type": "code",
   "execution_count": null,
   "id": "6cef7c5a",
   "metadata": {},
   "outputs": [],
   "source": [
    "final_df.shape"
   ]
  },
  {
   "cell_type": "code",
   "execution_count": null,
   "id": "3d0bebc6",
   "metadata": {},
   "outputs": [],
   "source": [
    "final_df"
   ]
  },
  {
   "cell_type": "markdown",
   "id": "67441e68",
   "metadata": {},
   "source": [
    "### Creating L12M :"
   ]
  },
  {
   "cell_type": "code",
   "execution_count": null,
   "id": "6d76e42c",
   "metadata": {},
   "outputs": [],
   "source": [
    "current_Month_StarDate = (datetime.today().date() - pd.offsets.MonthBegin(n=1))"
   ]
  },
  {
   "cell_type": "code",
   "execution_count": null,
   "id": "a982158b",
   "metadata": {},
   "outputs": [],
   "source": [
    "current_Month_StarDate"
   ]
  },
  {
   "cell_type": "code",
   "execution_count": null,
   "id": "18694681",
   "metadata": {},
   "outputs": [],
   "source": [
    "last_12M_date = current_Month_StarDate - pd.DateOffset(months = 12)\n",
    "last_12M_date"
   ]
  },
  {
   "cell_type": "code",
   "execution_count": null,
   "id": "21512744",
   "metadata": {},
   "outputs": [],
   "source": [
    "L12M = df[df['Date'].between(last_12M_date,current_Month_StarDate,inclusive='both')]"
   ]
  },
  {
   "cell_type": "code",
   "execution_count": null,
   "id": "6bbd1762",
   "metadata": {},
   "outputs": [],
   "source": [
    "L12M.shape"
   ]
  },
  {
   "cell_type": "code",
   "execution_count": null,
   "id": "9272e014",
   "metadata": {},
   "outputs": [],
   "source": []
  },
  {
   "cell_type": "code",
   "execution_count": null,
   "id": "150b890e",
   "metadata": {
    "scrolled": true
   },
   "outputs": [],
   "source": [
    "L12M=L12M.groupby(by=['Key']).sum()[['Actual','Stat','Consensus','ABS_STAT','ABS_CONS']].reset_index()"
   ]
  },
  {
   "cell_type": "code",
   "execution_count": null,
   "id": "af48a0e0",
   "metadata": {},
   "outputs": [],
   "source": [
    "L12M.rename(columns={'Actual':'L12M_Actual_Sum','Stat':'L12M_Stat_Sum','Consensus':'L12M_Consensus_Sum',\n",
    "                     'ABS_STAT':'L12M_ABSStat_Sum','ABS_CONS':'L12M_ABSCons_Sum'},inplace=True)"
   ]
  },
  {
   "cell_type": "code",
   "execution_count": null,
   "id": "01573113",
   "metadata": {},
   "outputs": [],
   "source": [
    "L12M['R12M'] = 'R12M'"
   ]
  },
  {
   "cell_type": "code",
   "execution_count": null,
   "id": "abf57739",
   "metadata": {},
   "outputs": [],
   "source": [
    "L12M = L12M.groupby(['Key']).value_counts().reset_index(name='L12M_Act_Count')"
   ]
  },
  {
   "cell_type": "code",
   "execution_count": null,
   "id": "34a9bca9",
   "metadata": {},
   "outputs": [],
   "source": []
  },
  {
   "cell_type": "markdown",
   "id": "906908d4",
   "metadata": {},
   "source": [
    "### Creating L6M Table"
   ]
  },
  {
   "cell_type": "code",
   "execution_count": null,
   "id": "3d0a790a",
   "metadata": {},
   "outputs": [],
   "source": [
    "\"\"\" \n",
    "L6M_query = textwrap.dedent( SELECT [MD_Error]\n",
    ",[Date]\n",
    ",SUM(cast([ABS_STAT] as float)) AS [ABS_STAT],SUM(cast([ABS_CONS] as float)) AS [ABS_CONS]\n",
    ",[Period],[Lag],[Item],[Material Type],[Div],[Sales Org],[Cust Facing Loc]\n",
    ",sum(cast([Consensus] as float)) as [Consensus]\n",
    ",sum(cast([Stat]as float)) as [Stat]\n",
    ",sum(cast([Actual]as float)) as [Actual]\n",
    ",[Origin]\n",
    "FROM [FABIAS_Dashboard].[FALossBaseCal]\n",
    "where [Date] > Dateadd(Month, -7, getdate()) and [Date] < Dateadd(Month, -1,getdate())\n",
    "-- WHERE [Item] = '74700PLUS.61R' and [Lag] = 'Lag 2' and [Period] = '202101'\n",
    "GROUP BY\n",
    "[MD_Error],[Date],[Period],[Lag],[Item],[Material Type],[Div],[Sales Org],[Cust Facing Loc],[Origin] )\n",
    "\n",
    "\"\"\""
   ]
  },
  {
   "cell_type": "code",
   "execution_count": null,
   "id": "2bd22c28",
   "metadata": {},
   "outputs": [],
   "source": [
    "current_Month_StarDate"
   ]
  },
  {
   "cell_type": "code",
   "execution_count": null,
   "id": "f6e75b05",
   "metadata": {},
   "outputs": [],
   "source": [
    "last_6M_date = current_Month_StarDate - pd.DateOffset(months = 6)\n",
    "last_6M_date"
   ]
  },
  {
   "cell_type": "code",
   "execution_count": null,
   "id": "8c88f8db",
   "metadata": {},
   "outputs": [],
   "source": [
    "L6M = df[df['Date'].between(last_6M_date,current_Month_StarDate,inclusive='both')]"
   ]
  },
  {
   "cell_type": "code",
   "execution_count": null,
   "id": "8609585a",
   "metadata": {},
   "outputs": [],
   "source": [
    "L6M.shape"
   ]
  },
  {
   "cell_type": "code",
   "execution_count": null,
   "id": "a008fb57",
   "metadata": {
    "scrolled": true
   },
   "outputs": [],
   "source": [
    "L6M=L6M.groupby(by=['Key']).sum()[['Actual','Stat','Consensus','ABS_STAT','ABS_CONS']].reset_index()"
   ]
  },
  {
   "cell_type": "code",
   "execution_count": null,
   "id": "e66ea623",
   "metadata": {},
   "outputs": [],
   "source": [
    "L6M.rename(columns={'Actual':'L6M_Actual_Sum','Stat':'L6M_Stat_Sum','Consensus':'L6M_Consensus_Sum',\n",
    "                     'ABS_STAT':'L6M_ABSStat_Sum','ABS_CONS':'L6M_ABSCons_Sum'},inplace=True)"
   ]
  },
  {
   "cell_type": "code",
   "execution_count": null,
   "id": "5a1b6f88",
   "metadata": {},
   "outputs": [],
   "source": [
    "L6M['R6M'] = 'R6M'"
   ]
  },
  {
   "cell_type": "code",
   "execution_count": null,
   "id": "247a25ad",
   "metadata": {},
   "outputs": [],
   "source": []
  },
  {
   "cell_type": "markdown",
   "id": "78bfee09",
   "metadata": {},
   "source": [
    "### Creating F12M Table"
   ]
  },
  {
   "cell_type": "code",
   "execution_count": null,
   "id": "e63b5872",
   "metadata": {},
   "outputs": [],
   "source": [
    "\"\"\"\n",
    "#F12M_query = textwrap.dedent(\"\"\"  SELECT [MD_Error]\n",
    ",[Date]\n",
    ",SUM(cast([ABS_STAT] as float)) AS [ABS_STAT],SUM(cast([ABS_CONS] as float)) AS [ABS_CONS]\n",
    ",[Period],[Lag],[Item],[Material Type],[Div],[Sales Org],[Cust Facing Loc]\n",
    ",sum(cast([Consensus] as float)) as [Consensus]\n",
    ",sum(cast([Stat]as float)) as [Stat]\n",
    ",sum(cast([Actual]as float)) as [Actual]\n",
    ",[Origin]\n",
    "FROM [FALossBaseCal]\n",
    "WHERE [Date] >= Dateadd(Month, -1,getdate())\n",
    "AND [Date] <= DATEADD(MONTH, 11, CAST(GETDATE() AS DATE))\n",
    "GROUP BY\n",
    "[MD_Error],[Date],[Period],[Lag],[Item],[Material Type],[Div],[Sales Org],[Cust Facing Loc],[Origin]  \"\"\")\n",
    "\n",
    "\"\"\""
   ]
  },
  {
   "cell_type": "code",
   "execution_count": null,
   "id": "84ea28af",
   "metadata": {},
   "outputs": [],
   "source": [
    "current_Month_StarDate"
   ]
  },
  {
   "cell_type": "code",
   "execution_count": null,
   "id": "d015023b",
   "metadata": {},
   "outputs": [],
   "source": [
    "forward_12_month = current_Month_StarDate + pd.DateOffset(months=12)"
   ]
  },
  {
   "cell_type": "code",
   "execution_count": null,
   "id": "eb0b1530",
   "metadata": {},
   "outputs": [],
   "source": [
    "forward_12_month"
   ]
  },
  {
   "cell_type": "code",
   "execution_count": null,
   "id": "8b7f6572",
   "metadata": {},
   "outputs": [],
   "source": [
    "#F12M = pd.read_sql(F12M_query,con=conn)"
   ]
  },
  {
   "cell_type": "code",
   "execution_count": null,
   "id": "c4fc4144",
   "metadata": {},
   "outputs": [],
   "source": [
    "F12M = df[df['Date'].between(current_Month_StarDate,forward_12_month,inclusive='both')]"
   ]
  },
  {
   "cell_type": "code",
   "execution_count": null,
   "id": "41a4f240",
   "metadata": {},
   "outputs": [],
   "source": [
    "F12M.shape"
   ]
  },
  {
   "cell_type": "code",
   "execution_count": null,
   "id": "93f6b0dd",
   "metadata": {},
   "outputs": [],
   "source": []
  },
  {
   "cell_type": "code",
   "execution_count": null,
   "id": "7dc56014",
   "metadata": {},
   "outputs": [],
   "source": []
  },
  {
   "cell_type": "code",
   "execution_count": null,
   "id": "a11dd68b",
   "metadata": {},
   "outputs": [],
   "source": [
    "#F12M['Key'] = F12M[['Item','Material Type','Div','Cust Facing Loc','Sales Org','Lag']].agg(','.join, axis=1) "
   ]
  },
  {
   "cell_type": "code",
   "execution_count": null,
   "id": "7ff49650",
   "metadata": {},
   "outputs": [],
   "source": [
    "#F12M['Key'] = F12M['Item'] +\",\"+ F12M['Material Type'] +\",\"+ F12M['Div'] +\",\"+ F12M['Cust Facing Loc'] +\",\"+ F12M['Sales Org']+\",\"+F12M['Lag']"
   ]
  },
  {
   "cell_type": "code",
   "execution_count": null,
   "id": "65c71fd4",
   "metadata": {},
   "outputs": [],
   "source": [
    "F12M = F12M.groupby(['Key']).sum()[['Actual','Stat','Consensus','ABS_STAT','ABS_CONS']].reset_index()"
   ]
  },
  {
   "cell_type": "code",
   "execution_count": null,
   "id": "324f4adb",
   "metadata": {},
   "outputs": [],
   "source": [
    "F12M.rename(columns={'Actual':'F12M_Actual_Sum','Stat':'F12M_Stat_Sum','Consensus':'F12M_Consensus_Sum',\n",
    "                     'ABS_STAT':'F12M_ABSStat_Sum','ABS_CONS':'F12M_ABSCons_Sum'},inplace=True)"
   ]
  },
  {
   "cell_type": "code",
   "execution_count": null,
   "id": "d92b7ef9",
   "metadata": {},
   "outputs": [],
   "source": [
    "F12M.shape"
   ]
  },
  {
   "cell_type": "code",
   "execution_count": null,
   "id": "302fd660",
   "metadata": {},
   "outputs": [],
   "source": []
  },
  {
   "cell_type": "markdown",
   "id": "98a45af4",
   "metadata": {},
   "source": [
    "### Creating F6M Table"
   ]
  },
  {
   "cell_type": "code",
   "execution_count": null,
   "id": "0a9b956e",
   "metadata": {},
   "outputs": [],
   "source": [
    "F6M_query = textwrap.dedent(\"\"\" SELECT [MD_Error]\n",
    ",[Date]\n",
    ",SUM(cast([ABS_STAT] as float)) AS [ABS_STAT],SUM(cast([ABS_CONS] as float)) AS [ABS_CONS]\n",
    ",[Period],[Lag],[Item],[Material Type],[Div],[Sales Org],[Cust Facing Loc]\n",
    ",sum(cast([Consensus] as float)) as [Consensus]\n",
    ",sum(cast([Stat]as float)) as [Stat]\n",
    ",sum(cast([Actual]as float)) as [Actual]\n",
    ",[Origin]\n",
    "FROM [FALossBaseCal]\n",
    "WHERE [Date] >= Dateadd(Month, -1,getdate())\n",
    "AND [Date] <= DATEADD(MONTH, 5, CAST(GETDATE() AS DATE))\n",
    "GROUP BY\n",
    "[MD_Error],[Date],[Period],[Lag],[Item],[Material Type],[Div],[Sales Org],[Cust Facing Loc],[Origin] \"\"\")"
   ]
  },
  {
   "cell_type": "code",
   "execution_count": null,
   "id": "ced8fc3f",
   "metadata": {},
   "outputs": [],
   "source": [
    "conn"
   ]
  },
  {
   "cell_type": "code",
   "execution_count": null,
   "id": "9e7f981a",
   "metadata": {},
   "outputs": [],
   "source": [
    "#F6M_source = pd.read_sql(F6M_query,con=conn)"
   ]
  },
  {
   "cell_type": "code",
   "execution_count": null,
   "id": "f98d267b",
   "metadata": {},
   "outputs": [],
   "source": [
    "#F6M_source['Key'] = F6M_source['Item'] +\",\"+ F6M_source['Material Type'] +\",\"+ F6M_source['Div'] +\",\"+ F6M_source['Cust Facing Loc'] +\",\"+ F6M_source['Sales Org']+\",\"+F6M_source['Lag']"
   ]
  },
  {
   "cell_type": "code",
   "execution_count": null,
   "id": "e1b27c0d",
   "metadata": {},
   "outputs": [],
   "source": [
    "#F6M_source['Date'] = pd.to_datetime(F6M_source['Date'])"
   ]
  },
  {
   "cell_type": "code",
   "execution_count": null,
   "id": "7adf9ee9",
   "metadata": {},
   "outputs": [],
   "source": [
    "current_Month_StarDate"
   ]
  },
  {
   "cell_type": "code",
   "execution_count": null,
   "id": "72db4c50",
   "metadata": {},
   "outputs": [],
   "source": [
    "forward_6Month = current_Month_StarDate + pd.DateOffset(months=6)"
   ]
  },
  {
   "cell_type": "code",
   "execution_count": null,
   "id": "ede926b5",
   "metadata": {},
   "outputs": [],
   "source": [
    "forward_6Month"
   ]
  },
  {
   "cell_type": "code",
   "execution_count": null,
   "id": "b2f94ace",
   "metadata": {},
   "outputs": [],
   "source": [
    "F6M = df[df['Date'].between(current_Month_StarDate,forward_6Month,inclusive='both')]"
   ]
  },
  {
   "cell_type": "code",
   "execution_count": null,
   "id": "9a7a843a",
   "metadata": {},
   "outputs": [],
   "source": [
    "F6M = pd.DataFrame(F6M.groupby(['Key'])['Actual','Stat','Consensus','ABS_STAT','ABS_CONS'].sum()).reset_index()"
   ]
  },
  {
   "cell_type": "code",
   "execution_count": null,
   "id": "21aaa2c8",
   "metadata": {},
   "outputs": [],
   "source": [
    "F6M.rename(columns={'Actual':'F6M_Actual_Sum','Stat':'F6M_Stat_Sum','Consensus':'F6M_Consensus_Sum',\n",
    "                     'ABS_STAT':'F6M_ABSStat_Sum','ABS_CONS':'F6M_ABSCons_Sum'},inplace=True)"
   ]
  },
  {
   "cell_type": "code",
   "execution_count": null,
   "id": "2135e47f",
   "metadata": {},
   "outputs": [],
   "source": [
    "F6M.shape"
   ]
  },
  {
   "cell_type": "code",
   "execution_count": null,
   "id": "f55b73b1",
   "metadata": {},
   "outputs": [],
   "source": [
    "F6M.head()"
   ]
  },
  {
   "cell_type": "markdown",
   "id": "b87888c1",
   "metadata": {},
   "source": [
    "### Creating L12M_Act_count Table"
   ]
  },
  {
   "cell_type": "code",
   "execution_count": null,
   "id": "ff35c15f",
   "metadata": {},
   "outputs": [],
   "source": [
    "L12M_act_count_query = textwrap.dedent( \"\"\" SELECT [MD_Error],[Date]\n",
    ",SUM(cast([ABS_STAT] as float)) AS [ABS_STAT],SUM(cast([ABS_CONS] as float)) AS [ABS_CONS]\n",
    ",[Period],[Lag],[Item],[Material Type],[Div],[Sales Org],[Cust Facing Loc]\n",
    ",sum(cast([Consensus] as float)) as [Consensus]\n",
    ",sum(cast([Stat]as float)) as [Stat]\n",
    ",sum(cast([Actual]as float)) as [Actual]\n",
    ",[Origin]\n",
    "FROM [FABIAS_Dashboard].[FALossBaseCal]\n",
    "where [Date] > Dateadd(Month, -13, getdate()) and [Date] < Dateadd(Month, -1,getdate())\n",
    "-- WHERE [Item] = '74700PLUS.61R' and [Lag] = 'Lag 2' and [Period] = '202101'\n",
    "GROUP BY\n",
    "[MD_Error],[Date],[Period],[Lag],[Item],[Material Type],[Div],[Sales Org],[Cust Facing Loc],[Origin]   \"\"\")"
   ]
  },
  {
   "cell_type": "code",
   "execution_count": null,
   "id": "a58312ab",
   "metadata": {},
   "outputs": [],
   "source": [
    "#L12M_Act_Count_source = pd.read_sql(L12M_act_count_query,con=conn)"
   ]
  },
  {
   "cell_type": "code",
   "execution_count": null,
   "id": "1c4a273e",
   "metadata": {},
   "outputs": [],
   "source": [
    "#L12M_Act_count = df[df['Date'].between(last_12M_date,current_Month_StarDate,inclusive='both')]"
   ]
  },
  {
   "cell_type": "code",
   "execution_count": null,
   "id": "b17a247f",
   "metadata": {
    "scrolled": true
   },
   "outputs": [],
   "source": [
    "#L12M_Act_count['Key'] = L12M_Act_count['Item'] +\",\"+ L12M_Act_count['Material Type'] +\",\"+ L12M_Act_count['Div'] +\",\"+ L12M_Act_count['Cust Facing Loc'] +\",\"+ L12M_Act_count['Sales Org']+\",\"+L12M_Act_count['Lag']"
   ]
  },
  {
   "cell_type": "code",
   "execution_count": null,
   "id": "92e644a8",
   "metadata": {},
   "outputs": [],
   "source": []
  },
  {
   "cell_type": "code",
   "execution_count": null,
   "id": "b0e237dd",
   "metadata": {},
   "outputs": [],
   "source": [
    "#L12_Act_count = L12M_Act_count['Key'].value_counts().reset_index()"
   ]
  },
  {
   "cell_type": "code",
   "execution_count": null,
   "id": "abc225c1",
   "metadata": {},
   "outputs": [],
   "source": [
    "#L12_Act_count.rename(columns={'index':'Key','Key':'L12M_Act_Count'},inplace=True)"
   ]
  },
  {
   "cell_type": "code",
   "execution_count": null,
   "id": "4630b2c3",
   "metadata": {},
   "outputs": [],
   "source": [
    "#L12_Act_count.head()"
   ]
  },
  {
   "cell_type": "markdown",
   "id": "eff96a5d",
   "metadata": {},
   "source": [
    "### Creating L3M Table"
   ]
  },
  {
   "cell_type": "code",
   "execution_count": null,
   "id": "652bcb7d",
   "metadata": {},
   "outputs": [],
   "source": [
    "last_3M_date = current_Month_StarDate - pd.DateOffset(months=3)\n",
    "last_3M_date"
   ]
  },
  {
   "cell_type": "code",
   "execution_count": null,
   "id": "0595a318",
   "metadata": {},
   "outputs": [],
   "source": [
    "L3M = df[df['Date'].between(last_3M_date,current_Month_StarDate,inclusive='both')]"
   ]
  },
  {
   "cell_type": "code",
   "execution_count": null,
   "id": "2ea2eee5",
   "metadata": {},
   "outputs": [],
   "source": [
    "L3M = pd.DataFrame(L3M['Key'])"
   ]
  },
  {
   "cell_type": "code",
   "execution_count": null,
   "id": "8e178e81",
   "metadata": {},
   "outputs": [],
   "source": [
    "L3M.reset_index(inplace=True)"
   ]
  },
  {
   "cell_type": "code",
   "execution_count": null,
   "id": "61a04230",
   "metadata": {},
   "outputs": [],
   "source": [
    "L3M['L3M'] = 'Yes'"
   ]
  },
  {
   "cell_type": "code",
   "execution_count": null,
   "id": "1db09b45",
   "metadata": {},
   "outputs": [],
   "source": [
    "L3M = L3M[['Key','L3M']]"
   ]
  },
  {
   "cell_type": "code",
   "execution_count": null,
   "id": "e769d0c1",
   "metadata": {},
   "outputs": [],
   "source": [
    "L3M.shape"
   ]
  },
  {
   "cell_type": "code",
   "execution_count": null,
   "id": "18591671",
   "metadata": {},
   "outputs": [],
   "source": [
    "L3M.shape"
   ]
  },
  {
   "cell_type": "code",
   "execution_count": null,
   "id": "0c46f904",
   "metadata": {},
   "outputs": [],
   "source": []
  },
  {
   "cell_type": "markdown",
   "id": "c085d59c",
   "metadata": {},
   "source": [
    "### Creating L9M"
   ]
  },
  {
   "cell_type": "code",
   "execution_count": null,
   "id": "80176010",
   "metadata": {},
   "outputs": [],
   "source": [
    "last_9M_date = current_Month_StarDate - pd.DateOffset(months=9)"
   ]
  },
  {
   "cell_type": "code",
   "execution_count": null,
   "id": "5baac042",
   "metadata": {},
   "outputs": [],
   "source": [
    "L9M = df[df['Date'].between(last_9M_date,current_Month_StarDate,inclusive='both')]"
   ]
  },
  {
   "cell_type": "code",
   "execution_count": null,
   "id": "86e2f95b",
   "metadata": {},
   "outputs": [],
   "source": [
    "L9M.shape"
   ]
  },
  {
   "cell_type": "code",
   "execution_count": null,
   "id": "9fb04299",
   "metadata": {},
   "outputs": [],
   "source": []
  },
  {
   "cell_type": "code",
   "execution_count": null,
   "id": "23834a82",
   "metadata": {},
   "outputs": [],
   "source": [
    "L9M.reset_index(inplace=True)"
   ]
  },
  {
   "cell_type": "code",
   "execution_count": null,
   "id": "3982caaf",
   "metadata": {},
   "outputs": [],
   "source": [
    "L9M['L9M'] = 'Yes'"
   ]
  },
  {
   "cell_type": "code",
   "execution_count": null,
   "id": "84982e84",
   "metadata": {},
   "outputs": [],
   "source": [
    "L3M_L9M = pd.merge(L3M,L9M,on='Key',how='right')"
   ]
  },
  {
   "cell_type": "code",
   "execution_count": null,
   "id": "5090eb5b",
   "metadata": {},
   "outputs": [],
   "source": [
    "L3M_L9M = pd.DataFrame(data=L3M_L9M[['Key','L3M','L9M']])"
   ]
  },
  {
   "cell_type": "code",
   "execution_count": null,
   "id": "23d55f51",
   "metadata": {},
   "outputs": [],
   "source": [
    "L3M_L9M.shape"
   ]
  },
  {
   "cell_type": "code",
   "execution_count": null,
   "id": "26db60ea",
   "metadata": {},
   "outputs": [],
   "source": []
  },
  {
   "cell_type": "markdown",
   "id": "7306d056",
   "metadata": {},
   "source": [
    "### Creating Dashboard Final Data"
   ]
  },
  {
   "cell_type": "code",
   "execution_count": null,
   "id": "39389826",
   "metadata": {},
   "outputs": [],
   "source": [
    "\"\"\"\n",
    "dashboard_query = textwrap.dedent( SELECT [MD_Error]\n",
    ",[Date]\n",
    ",SUM(cast([ABS_STAT] as float)) AS [ABS_STAT],SUM(cast([ABS_CONS] as float)) AS [ABS_CONS]\n",
    ",[Period],[Lag],[Item],[Material Type],[Div],[Sales Org],[Cust Facing Loc]\n",
    ",sum(cast([Consensus] as float)) as [Consensus]\n",
    ",sum(cast([Stat]as float)) as [Stat]\n",
    ",sum(cast([Actual]as float)) as [Actual]\n",
    ",[Origin]\n",
    "FROM [dbo].[FABIAS_Dashboard.FALossBaseCal]\n",
    "--WHERE [Date] >= Dateadd(Month, -1,getdate())\n",
    "--AND [Date] <= DATEADD(MONTH, 11, CAST(GETDATE() AS DATE))\n",
    "GROUP BY\n",
    "[MD_Error],[Date],[Period],[Lag],[Item],[Material Type],[Div],[Sales Org],[Cust Facing Loc],[Origin])\n",
    "\"\"\""
   ]
  },
  {
   "cell_type": "code",
   "execution_count": null,
   "id": "4ffa77b2",
   "metadata": {},
   "outputs": [],
   "source": [
    "#dashboard_df = pd.read_sql(dashboard_query,con=conn)"
   ]
  },
  {
   "cell_type": "code",
   "execution_count": null,
   "id": "48d9b9fa",
   "metadata": {},
   "outputs": [],
   "source": [
    "print('Source Data Shape is', df.shape)\n",
    "print('L12M Table Shape is',L12M.shape)\n",
    "print('L6M Table shape is',L6M.shape)\n",
    "print('F12M Table Shape is', F12M.shape)\n",
    "print('F6M Tbale shape is',F6M.shape)\n",
    "print('L12_Act_count Table shape is', L12_Act_count.shape)\n",
    "print('L3M Table shape is', L3M.shape)\n",
    "print('L9M Table shape is ', L9M.shape)\n",
    "print('L3_L9M Table shape is', L3M_L9M.shape)"
   ]
  },
  {
   "cell_type": "code",
   "execution_count": null,
   "id": "93104b4b",
   "metadata": {},
   "outputs": [],
   "source": [
    "dashboard_df = df[['Date','MD_Error','Key']]"
   ]
  },
  {
   "cell_type": "code",
   "execution_count": null,
   "id": "afbf000d",
   "metadata": {},
   "outputs": [],
   "source": []
  },
  {
   "cell_type": "code",
   "execution_count": null,
   "id": "c4be18b6",
   "metadata": {},
   "outputs": [],
   "source": [
    "dashboard_df.shape"
   ]
  },
  {
   "cell_type": "code",
   "execution_count": null,
   "id": "8f4a9ca7",
   "metadata": {},
   "outputs": [],
   "source": [
    "dashboard_df.info()"
   ]
  },
  {
   "cell_type": "code",
   "execution_count": null,
   "id": "5b54062c",
   "metadata": {},
   "outputs": [],
   "source": [
    "dashboard_df.drop_duplicates(inplace=True)"
   ]
  },
  {
   "cell_type": "code",
   "execution_count": null,
   "id": "aeaacefe",
   "metadata": {},
   "outputs": [],
   "source": [
    "dashboard_df = pd.merge(dashboard_df,F12M,on='Key',how='outer')"
   ]
  },
  {
   "cell_type": "code",
   "execution_count": null,
   "id": "360a43f2",
   "metadata": {},
   "outputs": [],
   "source": [
    "dashboard_df = pd.merge(dashboard_df,F6M,on='Key',how='outer')"
   ]
  },
  {
   "cell_type": "code",
   "execution_count": null,
   "id": "c30def33",
   "metadata": {},
   "outputs": [],
   "source": [
    "dashboard_df = pd.merge(dashboard_df,L12M,on='Key',how='outer')"
   ]
  },
  {
   "cell_type": "code",
   "execution_count": null,
   "id": "b11d969c",
   "metadata": {},
   "outputs": [],
   "source": [
    "dashboard_df = pd.merge(dashboard_df,L6M,on='Key',how='outer')"
   ]
  },
  {
   "cell_type": "code",
   "execution_count": null,
   "id": "145838b4",
   "metadata": {},
   "outputs": [],
   "source": [
    "#dashboard_df = pd.merge(dashboard_df,L12_Act_count,on='Key',how='outer')"
   ]
  },
  {
   "cell_type": "code",
   "execution_count": null,
   "id": "e9a59a1e",
   "metadata": {},
   "outputs": [],
   "source": [
    "dashboard_df = pd.merge(dashboard_df,L3M_L9M,on='Key',how='outer')"
   ]
  },
  {
   "cell_type": "code",
   "execution_count": null,
   "id": "db7c9e02",
   "metadata": {},
   "outputs": [],
   "source": [
    "#dashboard_df.drop(columns='Date_y',inplace=True)"
   ]
  },
  {
   "cell_type": "code",
   "execution_count": null,
   "id": "7e47e163",
   "metadata": {},
   "outputs": [],
   "source": [
    "dashboard_df.head()"
   ]
  },
  {
   "cell_type": "code",
   "execution_count": null,
   "id": "51c0008d",
   "metadata": {},
   "outputs": [],
   "source": [
    "dashboard_df.groupby(['Date'])['L9M'].count()"
   ]
  },
  {
   "cell_type": "markdown",
   "id": "1b23c7c1",
   "metadata": {},
   "source": [
    "## Conditions:"
   ]
  },
  {
   "cell_type": "code",
   "execution_count": null,
   "id": "2683c5dd",
   "metadata": {},
   "outputs": [],
   "source": [
    "def con_l6m_fa(row):\n",
    "    if row['L6M_Actual_Sum'] >=1:\n",
    "        val = row['L6M_ABSStat_Sum']/row['L6M_Actual_Sum']\n",
    "    else :\n",
    "        val = np.NaN\n",
    "    return val"
   ]
  },
  {
   "cell_type": "code",
   "execution_count": null,
   "id": "6fd599ec",
   "metadata": {},
   "outputs": [],
   "source": [
    "dashboard_df['L6M_FA'] = dashboard_df.apply(con_l6m_fa,axis=1)"
   ]
  },
  {
   "cell_type": "code",
   "execution_count": null,
   "id": "54f0f92d",
   "metadata": {},
   "outputs": [],
   "source": []
  },
  {
   "cell_type": "code",
   "execution_count": null,
   "id": "6ba11705",
   "metadata": {},
   "outputs": [],
   "source": [
    "def con(row):\n",
    "    if row['L6M_FA'] >= 1:\n",
    "        val = 0\n",
    "    elif row['L6M_FA'] < 1:\n",
    "        val = (1-(row['L6M_FA']))\n",
    "    else :\n",
    "        val = np.NaN\n",
    "    return val"
   ]
  },
  {
   "cell_type": "code",
   "execution_count": null,
   "id": "fe91078e",
   "metadata": {},
   "outputs": [],
   "source": [
    "dashboard_df['L6M_FA_STAT'] = dashboard_df.apply(con,axis=1)"
   ]
  },
  {
   "cell_type": "code",
   "execution_count": null,
   "id": "6e26cc11",
   "metadata": {},
   "outputs": [],
   "source": [
    "def l6m_fa_cond(row):\n",
    "    if row['L6M_Actual_Sum'] >=1 :\n",
    "        val = row['L6M_ABSCons_Sum']/row['L6M_Actual_Sum']\n",
    "    else :\n",
    "        val = np.NaN\n",
    "    return val"
   ]
  },
  {
   "cell_type": "code",
   "execution_count": null,
   "id": "776e21d5",
   "metadata": {},
   "outputs": [],
   "source": [
    "dashboard_df['L6M_FA_CON'] = dashboard_df.apply(l6m_fa_cond,axis=1)"
   ]
  },
  {
   "cell_type": "code",
   "execution_count": null,
   "id": "efa31374",
   "metadata": {},
   "outputs": [],
   "source": []
  },
  {
   "cell_type": "code",
   "execution_count": null,
   "id": "cb1f3c7c",
   "metadata": {
    "scrolled": true
   },
   "outputs": [],
   "source": [
    "def cond2(row):\n",
    "    if row['L6M_FA_CON'] >= 1:\n",
    "        val = 0\n",
    "    elif row['L6M_FA_CON'] < 1:\n",
    "        val = (1- row['L6M_FA_CON'])\n",
    "    else:\n",
    "        val = np.NaN\n",
    "    return val"
   ]
  },
  {
   "cell_type": "code",
   "execution_count": null,
   "id": "1f3b6637",
   "metadata": {},
   "outputs": [],
   "source": [
    "dashboard_df['L6M_FA_CONSEN'] = dashboard_df.apply(cond2,axis=1)"
   ]
  },
  {
   "cell_type": "markdown",
   "id": "933cd2b8",
   "metadata": {},
   "source": [
    "### LEVEL-03 Condition:\n",
    "    = Table.AddColumn(#\"Replaced Errors1\", \"LEVEL3\", each if [MD_Error] = \"YES\" then \"MASTER DATA ERROR\" \n",
    "    else if [L9M] = \"NO\" then \"TRIAL/NPI\" \n",
    "    else if [L6M_Actual_Sum] < [L6M_Consensus_Sum] then \"OVER FORECASTING\" \n",
    "    else if [L6M_Actual_Sum] > [L6M_Consensus_Sum] then \"UNDER FORECASTING\" \n",
    "    else if [L6M_Stat_Sum] > [L6M_Consensus_Sum] then \"OUTLIER CORRECTION\"  \n",
    "    else if [L12M_Actual_Count] = 0 and [F6M_Consensus_Sum] > 0 then \"FORECAST NOT ZEROED OUT\" \n",
    "    else if [L12M_Actual_Count] < 4 and [L12M_Actual_Count] > 0 then \"LUMPY DEMAND\" \n",
    "    else if [L12M_Actual_Sum] <= 0 and [F6M_Consensus_Sum] <= 0 then \"DISCONTINUE\" \n",
    "    else if [L6M_FA_STAT]>[L6M_FA_CONSEN] then \"INCORRECT CHOICE OF MODEL\" else \"OK/MANUAL INPUT\")"
   ]
  },
  {
   "cell_type": "code",
   "execution_count": null,
   "id": "6926e3db",
   "metadata": {},
   "outputs": [],
   "source": [
    "def level3_cond(row):\n",
    "    if row['MD_Error'] == 'Yes':\n",
    "        val = 'MASTER DATA ERROR'\n",
    "    elif row['L9M'] is np.NaN:\n",
    "        val = 'TRAIL/NPI'\n",
    "    elif row['L6M_Actual_Sum'] > row['L6M_Consensus_Sum']:\n",
    "        val = 'UNDER FORECASTING'\n",
    "    elif row['L6M_Actual_Sum'] < row['L6M_Consensus_Sum']:\n",
    "        val = \"OVER FORECASTING\"\n",
    "    elif row['L6M_Stat_Sum'] > row['L6M_Consensus_Sum']:\n",
    "        val = \"OUTLIER CORRECTION\"\n",
    "    elif row['L12M_Act_Count'] == 0 and row['F6M_Consensus_Sum'] > 0:\n",
    "        val = \"FORECAST NOT ZEROED OUT\"\n",
    "    elif row['L12M_Act_Count'] > 0 and row['L12M_Act_Count'] < 4 :\n",
    "        val = \"LUMPY DEMAND\"\n",
    "    elif row['L12M_Actual_Sum'] <= 0 and row['F6M_Consensus_Sum'] <= 0:\n",
    "        val = \"DISCONTINUE\"\n",
    "    elif row['L6M_FA_STAT'] > row['L6M_FA_CONSEN']:\n",
    "        val = \"INCORRECT CHOICE OF MODEL\"\n",
    "    else:\n",
    "        val =  \"OK/MANUAL INPUT\"\n",
    "    return val"
   ]
  },
  {
   "cell_type": "code",
   "execution_count": null,
   "id": "c6c7b9f6",
   "metadata": {},
   "outputs": [],
   "source": [
    "dashboard_df['LEVEL03'] = dashboard_df.apply(level3_cond,axis=1)"
   ]
  },
  {
   "cell_type": "code",
   "execution_count": null,
   "id": "5eca11ac",
   "metadata": {},
   "outputs": [],
   "source": [
    "dashboard_df['LEVEL03'].value_counts()"
   ]
  },
  {
   "cell_type": "markdown",
   "id": "ba9c60e5",
   "metadata": {},
   "source": [
    "### LEVEL-02 Condition :\n",
    "\n",
    "    = Table.AddColumn(#\"Added Conditional Column\", \"LEVEL2\", each if [LEVEL3] = \"MASTER DATA ERROR\" then \"MASTER DATA\" \n",
    "    else if [LEVEL3] = \"TRIAL/NPI\" then \"TRIAL/NPI\" \n",
    "    else if [LEVEL3] = \"OVER FORECASTING\" then \"FORECASTING ADJUSTMENTS\" \n",
    "    else if [LEVEL3] = \"UNDER FORECASTING\" then \"FORECASTING ADJUSTMENTS\" \n",
    "    else if [LEVEL3] = \"OUTLIER CORRECTION\" then \"HISTORY ADJUSTMENTS\" \n",
    "    else if [LEVEL3] = \"FORECAST NOT ZEROED OUT\" then \"FORECAST MAPPING\" \n",
    "    else if [LEVEL3] = \"LUMPY DEMAND\" then \"FORECASTING ADJUSTMENTS\" \n",
    "    else if [LEVEL3] = \"DISCONTINUE\" then \"FORECASTING ADJUSTMENTS\" \n",
    "    else if [LEVEL3] = \"INCORRECT CHOICE OF MODEL\" then \"FORECASTING MODEL\" \n",
    "    else if [LEVEL3] = \"OK/MANUAL INPUT\" then \"OK/MANUAL INPUT\" \n",
    "    else if [L6M_Stat_Sum]=[L6M_Consensus_Sum] and [L6M_FA_CONSEN] <0.75 then \"FORECASTING MODEL\" \n",
    "    else if [L6M_ABSStat_Sum]<>[L6M_ABSCons_Sum] then \"FORECASTING ADJUSTMENTS\" else \"\")"
   ]
  },
  {
   "cell_type": "code",
   "execution_count": null,
   "id": "70c0e293",
   "metadata": {},
   "outputs": [],
   "source": [
    "dashboard_df['L9M'].value_counts()"
   ]
  },
  {
   "cell_type": "code",
   "execution_count": null,
   "id": "9896e168",
   "metadata": {},
   "outputs": [],
   "source": [
    "def level2_condition(row):\n",
    "    if row['LEVEL03'] == \"MASTER DATA ERROR\":\n",
    "        val = \"MASTER DATA\"\n",
    "    elif row['LEVEL03'] == \"TRIAL/NPI\":\n",
    "        val = \"TRIAL/NPI\" \n",
    "    elif row['LEVEL03'] == \"OVER FORECASTING\":\n",
    "        val = \"FORECASTING ADJUSTMENTS\" \n",
    "    elif row['LEVEL03'] == \"UNDER FORECASTING\":\n",
    "        val = \"FORECASTING ADJUSTMENTS\"\n",
    "    elif row['LEVEL03'] == \"OUTLIER CORRECTION\":\n",
    "        val = \"HISTORY ADJUSTMENTS\"\n",
    "    elif row['LEVEL03'] == \"FORECAST NOT ZEROED OUT\":\n",
    "        val = \"FORECAST MAPPING\"\n",
    "    elif row['LEVEL03'] == \"LUMPY DEMAND\":\n",
    "        val = \"FORECASTING ADJUSTMENTS\"\n",
    "    elif row['LEVEL03'] == \"DISCONTINUE\":\n",
    "        val =\"FORECASTING ADJUSTMENTS\"\n",
    "    elif row['LEVEL03'] == \"INCORRECT CHOICE OF MODEL\":\n",
    "        val = \"FORECASTING MODEL\"\n",
    "    elif row['LEVEL03'] == \"OK/MANUAL INPUT\":\n",
    "        val = \"OK/MANUAL INPUT\"\n",
    "    elif row['L6M_Stat_Sum']==row['L6M_Consensus_Sum'] and row['L6M_FA_CONSEN'] < 0.75 :\n",
    "        val = \"FORECASTING MODEL\"\n",
    "    elif row['L6M_ABSStat_Sum'] != row['L6M_ABSCons_Sum']:\n",
    "        val = 'FORECASTING ADJUSTMENTS'\n",
    "    else:\n",
    "        val = 'NA'\n",
    "    return val"
   ]
  },
  {
   "cell_type": "code",
   "execution_count": null,
   "id": "8df2f963",
   "metadata": {},
   "outputs": [],
   "source": [
    "dashboard_df['LEVEL02'] = dashboard_df.apply(level2_condition,axis=1)"
   ]
  },
  {
   "cell_type": "code",
   "execution_count": null,
   "id": "6616894f",
   "metadata": {},
   "outputs": [],
   "source": [
    "px.pie(dashboard_df,names='LEVEL02',width=800, height=400)"
   ]
  },
  {
   "cell_type": "markdown",
   "id": "aa82ced5",
   "metadata": {},
   "source": [
    "### Level1 Condition :\n",
    "    \"\"\"\n",
    "    Added Custom2\", \"LEVEL1\", each if [LEVEL2] = \"MASTER DATA\" then \"DATA\" \n",
    "    else if [LEVEL2]=\"TRIAL/NPI\" then \"SALES MARKETING INPUT\" \n",
    "    else if [LEVEL2] = \"FORECASTING ADJUSTMENTS\" then \"FORECAST PROCESS\" \n",
    "    else if [LEVEL2] = \"HISTORY ADJUSTMENTS\" then \"FORECAST PROCESS\" \n",
    "    else if [LEVEL2] = \"FORECAST MAPPING\" then \"FORECAST PROCESS\" \n",
    "    else if [LEVEL2] = \"FORECASTING MODEL\" then \"FORECAST PROCESS\" \n",
    "    else if [LEVEL2] = \"OK/MANUAL INPUT\" then \"OK/MANUAL INPUT\" else \"NA\"\n",
    "    \"\"\""
   ]
  },
  {
   "cell_type": "code",
   "execution_count": null,
   "id": "fc055421",
   "metadata": {},
   "outputs": [],
   "source": [
    "def level01_condition(row):\n",
    "    if row['LEVEL02'] == \"MASTER DATA\":\n",
    "        val = \"DATA\"\n",
    "    elif row['LEVEL02'] == \"TRIAL/NPI\":\n",
    "        val = \"SALES MARKETING INPUT\"\n",
    "    elif row['LEVEL02'] == \"FORECASTING ADJUSTMENTS\":\n",
    "        val = \"FORECAST PROCESS\"\n",
    "    elif row['LEVEL02'] == \"HISTORY ADJUSTMENTS\":\n",
    "        val = \"FORECAST PROCESS\"\n",
    "    elif row['LEVEL02'] == \"FORECAST MAPPING\":\n",
    "        val = \"FORECAST PROCESS\"\n",
    "    elif row['LEVEL02'] == \"FORECASTING MODEL\":\n",
    "        val = \"FORECAST PROCESS\"\n",
    "    elif row['LEVEL02'] == \"OK/MANUAL INPUT\":\n",
    "        val = \"OK/MANUAL INPUT\"\n",
    "    else:\n",
    "        val = 'NA'\n",
    "    return val"
   ]
  },
  {
   "cell_type": "code",
   "execution_count": null,
   "id": "ecac7ae9",
   "metadata": {},
   "outputs": [],
   "source": [
    "px.pie(dashboard_df,names='LEVEL01',width=800, height=400)"
   ]
  },
  {
   "cell_type": "code",
   "execution_count": null,
   "id": "27126c35",
   "metadata": {},
   "outputs": [],
   "source": [
    "dashboard_df['LEVEL01'] = dashboard_df.apply(level01_condition,axis=1)"
   ]
  },
  {
   "cell_type": "code",
   "execution_count": null,
   "id": "56272892",
   "metadata": {},
   "outputs": [],
   "source": [
    "from plotly.subplots import make_subplots\n",
    "import plotly.graph_objects as go\n",
    "fig = make_subplots(rows=1,cols=3)\n",
    "fig.add_trace(gdashboard_df,names='LEVEL01',width=800, height=400)\n",
    "fig.show()"
   ]
  },
  {
   "cell_type": "code",
   "execution_count": null,
   "id": "ccad1b5d",
   "metadata": {},
   "outputs": [],
   "source": [
    "#fig = px.pie(data_frame=dashboard_df,names='LEVEL02', width=500,height=200)\n",
    "#fig.update_layout(margin=dict(l=20, r=20, t=20, b=20),paper_bgcolor=\"LightSteelBlue\")\n",
    "#fig.show()"
   ]
  },
  {
   "cell_type": "code",
   "execution_count": null,
   "id": "11f5545b",
   "metadata": {},
   "outputs": [],
   "source": [
    "dashboard_df[['Item','Material_Type','Division','Cust_Facing_Loc','Sales_org','Lag']] = dashboard_df['Key'].str.split(',',5,expand=True)"
   ]
  },
  {
   "cell_type": "code",
   "execution_count": null,
   "id": "fd0c4a34",
   "metadata": {},
   "outputs": [],
   "source": [
    "dashboard_df['Abs_Error_Cons'] = dashboard_df['L12M_Actual_Sum'] - dashboard_df['L12M_Consensus_Sum']"
   ]
  },
  {
   "cell_type": "code",
   "execution_count": null,
   "id": "1b4d695a",
   "metadata": {},
   "outputs": [],
   "source": [
    "dashboard_df['Abs_Error_Cons'] = dashboard_df['Abs_Error_Cons'].apply(lambda x:abs(x))"
   ]
  },
  {
   "cell_type": "markdown",
   "id": "d2dbb81e",
   "metadata": {},
   "source": [
    "### FA Calculation :\n",
    "\n",
    "* Formula : R12M_FA_CONS = IFERROR(IF((SUM(DASHBOARD[L12M_ABSERROR_CONS])/SUM(L12M[L12M_Actual_Sum]))>1,\n",
    "                          0,1-(SUM(DASHBOARD[L12M_ABSERROR_CONS])/SUM(DASHBOARD[L12M_Actual_Sum]))),BLANK())\n"
   ]
  },
  {
   "cell_type": "code",
   "execution_count": null,
   "id": "1ca7f1a5",
   "metadata": {},
   "outputs": [],
   "source": [
    "def FA(row):\n",
    "    if row['L12M_Actual_Sum'] == 0:\n",
    "        val = np.NaN\n",
    "    elif (row['Abs_Error_Cons']/row['L12M_Actual_Sum']) >1:\n",
    "        val = 0\n",
    "    elif (row['Abs_Error_Cons']/row['L12M_Actual_Sum']) <=1:\n",
    "        val = (1-(row['Abs_Error_Cons']/row['L12M_Actual_Sum']))\n",
    "    else :\n",
    "        val = np.NaN\n",
    "    return val"
   ]
  },
  {
   "cell_type": "code",
   "execution_count": null,
   "id": "8d512b9c",
   "metadata": {
    "scrolled": true
   },
   "outputs": [],
   "source": []
  },
  {
   "cell_type": "code",
   "execution_count": null,
   "id": "c54fa3c4",
   "metadata": {},
   "outputs": [],
   "source": [
    "dashboard_df['FA'] = dashboard_df.apply(FA,axis=1)"
   ]
  },
  {
   "cell_type": "markdown",
   "id": "3940bfda",
   "metadata": {},
   "source": [
    "### BAIS Calculalation :"
   ]
  },
  {
   "cell_type": "markdown",
   "id": "fbaa01c0",
   "metadata": {},
   "source": [
    "#### Formula :\n",
    "\n",
    "* L12M_BIAS_CONSEN = IFERROR(((SUM(DASHBOARD[L12M_Actual_Sum])-   SUM(DASHBOARD[L12M_Consensus_Sum]))/SUM(DASHBOARD[L12M_Consensus_Sum]))*-1,0) "
   ]
  },
  {
   "cell_type": "code",
   "execution_count": null,
   "id": "58489839",
   "metadata": {},
   "outputs": [],
   "source": [
    "def bais_cond(row):\n",
    "    if row['L12M_Consensus_Sum'] > 0:\n",
    "        val = (row['L12M_Consensus_Sum']-row['L12M_Actual_Sum'])/row['L12M_Consensus_Sum']\n",
    "    else :\n",
    "        val = np.NaN\n",
    "    return val"
   ]
  },
  {
   "cell_type": "code",
   "execution_count": null,
   "id": "6527a60e",
   "metadata": {},
   "outputs": [],
   "source": [
    "dashboard_df['Bais'] = dashboard_df.apply(bais_cond,axis=1)"
   ]
  },
  {
   "cell_type": "code",
   "execution_count": null,
   "id": "0a06df9b",
   "metadata": {},
   "outputs": [],
   "source": [
    "dashboard_df.head()"
   ]
  },
  {
   "cell_type": "code",
   "execution_count": null,
   "id": "5920392e",
   "metadata": {},
   "outputs": [],
   "source": [
    "import matplotlib.pyplot as plt\n",
    "import seaborn as sns"
   ]
  },
  {
   "cell_type": "code",
   "execution_count": null,
   "id": "f5e2a80f",
   "metadata": {},
   "outputs": [],
   "source": []
  },
  {
   "cell_type": "code",
   "execution_count": null,
   "id": "95229881",
   "metadata": {},
   "outputs": [],
   "source": []
  },
  {
   "cell_type": "code",
   "execution_count": null,
   "id": "b56d0e09",
   "metadata": {},
   "outputs": [],
   "source": [
    "loss_df = dashboard_df[['Date','Item','LEVEL01','LEVEL02','LEVEL03','Division','Material_Type','Lag','Sales_org','Cust_Facing_Loc']]"
   ]
  },
  {
   "cell_type": "code",
   "execution_count": null,
   "id": "8cc69817",
   "metadata": {},
   "outputs": [],
   "source": [
    "loss_df['Forecast_Consensus'] = dashboard_df['L12M_Consensus_Sum']"
   ]
  },
  {
   "cell_type": "code",
   "execution_count": null,
   "id": "db0093b4",
   "metadata": {},
   "outputs": [],
   "source": [
    "loss_df['Actual'] = dashboard_df['L12M_Actual_Sum']"
   ]
  },
  {
   "cell_type": "code",
   "execution_count": null,
   "id": "d75f16a1",
   "metadata": {},
   "outputs": [],
   "source": [
    "loss_df['Abs_Error_Cons'] = dashboard_df['L12M_Actual_Sum'] - dashboard_df['L12M_Consensus_Sum']"
   ]
  },
  {
   "cell_type": "code",
   "execution_count": null,
   "id": "9b13e0a1",
   "metadata": {},
   "outputs": [],
   "source": [
    "loss_df['Abs_Error_Cons'] = loss_df['Abs_Error_Cons'].apply(lambda x:abs(x))"
   ]
  },
  {
   "cell_type": "code",
   "execution_count": null,
   "id": "02f6f48a",
   "metadata": {},
   "outputs": [],
   "source": [
    "loss_df['FA'] = dashboard_df['FA']\n",
    "loss_df['BAIS'] = dashboard_df['Bais']"
   ]
  },
  {
   "cell_type": "code",
   "execution_count": null,
   "id": "ac98fc05",
   "metadata": {},
   "outputs": [],
   "source": [
    "#loss_df.to_excel('loss_df.xlsx',index=False)"
   ]
  },
  {
   "cell_type": "code",
   "execution_count": null,
   "id": "72e7b582",
   "metadata": {},
   "outputs": [],
   "source": [
    "#dashboard_df.to_excel('Dashboard_df.xlsx',index=False)"
   ]
  },
  {
   "cell_type": "code",
   "execution_count": null,
   "id": "1a5c38bc",
   "metadata": {},
   "outputs": [],
   "source": [
    "loss_df.shape"
   ]
  },
  {
   "cell_type": "code",
   "execution_count": null,
   "id": "9dde4918",
   "metadata": {},
   "outputs": [],
   "source": [
    "loss_df.head()"
   ]
  },
  {
   "cell_type": "code",
   "execution_count": null,
   "id": "28e0baeb",
   "metadata": {},
   "outputs": [],
   "source": [
    "import matplotlib.pyplot as plt\n",
    "import seaborn as sns"
   ]
  },
  {
   "cell_type": "code",
   "execution_count": null,
   "id": "288555c6",
   "metadata": {},
   "outputs": [],
   "source": [
    "f, axes = plt.subplots(1, 3, figsize=(15, 7), sharex=True)            # Set up the matplotlib figure\n",
    "sns.despine(left=False)\n",
    "loss_df['LEVEL01'].value_counts().plot(kind='pie',ax=axes[0])\n",
    "loss_df['LEVEL02'].value_counts().plot(kind='pie',ax=axes[1])\n",
    "loss_df['LEVEL03'].value_counts().plot(kind='pie',ax=axes[2])"
   ]
  },
  {
   "cell_type": "code",
   "execution_count": null,
   "id": "2aa5027d",
   "metadata": {},
   "outputs": [],
   "source": [
    "cust_funnel_dat=pd.DataFrame(data=loss_df.groupby(['Cust_Facing_Loc']).sum()[['Abs_Error_Cons']].nlargest(10,columns='Abs_Error_Cons'))"
   ]
  },
  {
   "cell_type": "code",
   "execution_count": null,
   "id": "9ad417e3",
   "metadata": {},
   "outputs": [],
   "source": [
    "cust_funnel_dat.reset_index(inplace=True)"
   ]
  },
  {
   "cell_type": "code",
   "execution_count": null,
   "id": "8278d160",
   "metadata": {},
   "outputs": [],
   "source": []
  },
  {
   "cell_type": "code",
   "execution_count": null,
   "id": "120e2125",
   "metadata": {},
   "outputs": [],
   "source": [
    "loss_df['Date'].min()"
   ]
  },
  {
   "cell_type": "code",
   "execution_count": null,
   "id": "43322d9c",
   "metadata": {},
   "outputs": [],
   "source": [
    "px.funnel(cust_funnel_dat, y='Cust_Facing_Loc', x='Abs_Error_Cons')"
   ]
  },
  {
   "cell_type": "code",
   "execution_count": null,
   "id": "2c4417ec",
   "metadata": {},
   "outputs": [],
   "source": [
    "sales_funnel=pd.DataFrame(loss_df.groupby(['Sales_org']).sum()[['Abs_Error_Cons']].nlargest(10,columns='Abs_Error_Cons'))"
   ]
  },
  {
   "cell_type": "code",
   "execution_count": null,
   "id": "c2f6bb27",
   "metadata": {},
   "outputs": [],
   "source": [
    "sales_funnel.reset_index(inplace=True)"
   ]
  },
  {
   "cell_type": "code",
   "execution_count": null,
   "id": "da709af4",
   "metadata": {},
   "outputs": [],
   "source": [
    "px.funnel(sales_funnel, y='Sales_org', x='Abs_Error_Cons')"
   ]
  },
  {
   "cell_type": "code",
   "execution_count": null,
   "id": "917da6de",
   "metadata": {},
   "outputs": [],
   "source": [
    "sku_funnel=pd.DataFrame(loss_df.groupby(['Item']).sum()[['Abs_Error_Cons']].nlargest(10,columns='Abs_Error_Cons'))"
   ]
  },
  {
   "cell_type": "code",
   "execution_count": null,
   "id": "dfadbea2",
   "metadata": {},
   "outputs": [],
   "source": [
    "sku_funnel.reset_index(inplace=True)"
   ]
  },
  {
   "cell_type": "code",
   "execution_count": null,
   "id": "b6e0bdad",
   "metadata": {},
   "outputs": [],
   "source": [
    "px.funnel(sku_funnel, y='Item', x='Abs_Error_Cons')"
   ]
  },
  {
   "cell_type": "code",
   "execution_count": null,
   "id": "6fd04f7b",
   "metadata": {},
   "outputs": [],
   "source": []
  }
 ],
 "metadata": {
  "kernelspec": {
   "display_name": "Python 3 (ipykernel)",
   "language": "python",
   "name": "python3"
  },
  "language_info": {
   "codemirror_mode": {
    "name": "ipython",
    "version": 3
   },
   "file_extension": ".py",
   "mimetype": "text/x-python",
   "name": "python",
   "nbconvert_exporter": "python",
   "pygments_lexer": "ipython3",
   "version": "3.9.12"
  }
 },
 "nbformat": 4,
 "nbformat_minor": 5
}
